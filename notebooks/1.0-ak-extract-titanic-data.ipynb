{
 "cells": [
  {
   "cell_type": "code",
   "execution_count": 2,
   "metadata": {},
   "outputs": [
    {
     "name": "stdout",
     "output_type": "stream",
     "text": [
      "../src/data/get_raw_data.py\n"
     ]
    }
   ],
   "source": [
    "import os\n",
    "get_raw_data_script_file = os.path.join(os.path.pardir, \"src\", \"data\", \"get_raw_data.py\")\n",
    "print(get_raw_data_script_file)"
   ]
  },
  {
   "cell_type": "code",
   "execution_count": 10,
   "metadata": {},
   "outputs": [
    {
     "name": "stdout",
     "output_type": "stream",
     "text": [
      "Overwriting ../src/data/get_raw_data.py\n"
     ]
    }
   ],
   "source": [
    "%%writefile $get_raw_data_script_file\n",
    "\n",
    "import os\n",
    "from dotenv import load_dotenv, find_dotenv\n",
    "from requests import session\n",
    "import logging\n",
    "\n",
    "payload = {\n",
    "    'action':\"login\",\n",
    "    \"username\": os.environ.get(\"KAGGLE_USERNAME\"),\n",
    "    \"password\": os.environ.get(\"KAGGLE_PASSWORD\")\n",
    "}\n",
    "\n",
    "url = \"https://www.kaggle.com/c/titanic/download/train.csv\"\n",
    "\n",
    "def extract_data(url, file_path):\n",
    "    with session() as c:\n",
    "        c.post(\"https://www.kaggle.com/accounts/login/\", data=payload)\n",
    "        response = c.get(url)\n",
    "        for block in response.iter_content(1024):\n",
    "            handle.write(block)\n",
    "\n",
    "def main(project_dir):\n",
    "    \n",
    "    logger = logging.getLogger(__name__)\n",
    "    \n",
    "    logger.info(\"getting raw data\")\n",
    "    \n",
    "    train_url = \"https://www.kaggle.com/c/titanic/download/train.csv\"\n",
    "    test_url = \"https://www.kaggle.com/c/titanic/download/test.csv\"\n",
    "    \n",
    "    \n",
    "    raw_data_path  = os.path.join(project_dir, \"data\", \"raw\")\n",
    "    train_data_path = os.path.join(raw_data_path, \"train_data.csv\")\n",
    "    test_data_path = os.path.join(raw_data_path, \"test_data.csv\")\n",
    "    \n",
    "    logger.info(\"downloaded raw training data and test data\")\n",
    "\n",
    "    \n",
    "    extract_data(train_url, train_data_path)\n",
    "    extract_data(test_url, test_data_path)\n",
    "\n",
    "\n",
    "if __name__ == \"__main__\":\n",
    "    \n",
    "    project_dir = os.path.join(os.path.dirname(__file__), os.pardir, os.pardir)\n",
    "    dotenv_path = find_dotenv()\n",
    "    load_dotenv(dotenv_path)\n",
    "    main(project_dir)"
   ]
  },
  {
   "cell_type": "code",
   "execution_count": 11,
   "metadata": {},
   "outputs": [
    {
     "name": "stdout",
     "output_type": "stream",
     "text": [
      "Traceback (most recent call last):\n",
      "  File \"/home/aman/anaconda/lib/python3.6/site-packages/urllib3/contrib/pyopenssl.py\", line 441, in wrap_socket\n",
      "    cnx.do_handshake()\n",
      "  File \"/home/aman/anaconda/lib/python3.6/site-packages/OpenSSL/SSL.py\", line 1716, in do_handshake\n",
      "    self._raise_ssl_error(self._ssl, result)\n",
      "  File \"/home/aman/anaconda/lib/python3.6/site-packages/OpenSSL/SSL.py\", line 1456, in _raise_ssl_error\n",
      "    _raise_current_error()\n",
      "  File \"/home/aman/anaconda/lib/python3.6/site-packages/OpenSSL/_util.py\", line 54, in exception_from_error_queue\n",
      "    raise exception_type(errors)\n",
      "OpenSSL.SSL.Error: [('SSL routines', 'ssl3_get_server_certificate', 'certificate verify failed')]\n",
      "\n",
      "During handling of the above exception, another exception occurred:\n",
      "\n",
      "Traceback (most recent call last):\n",
      "  File \"/home/aman/anaconda/lib/python3.6/site-packages/urllib3/connectionpool.py\", line 601, in urlopen\n",
      "    chunked=chunked)\n",
      "  File \"/home/aman/anaconda/lib/python3.6/site-packages/urllib3/connectionpool.py\", line 346, in _make_request\n",
      "    self._validate_conn(conn)\n",
      "  File \"/home/aman/anaconda/lib/python3.6/site-packages/urllib3/connectionpool.py\", line 850, in _validate_conn\n",
      "    conn.connect()\n",
      "  File \"/home/aman/anaconda/lib/python3.6/site-packages/urllib3/connection.py\", line 326, in connect\n",
      "    ssl_context=context)\n",
      "  File \"/home/aman/anaconda/lib/python3.6/site-packages/urllib3/util/ssl_.py\", line 329, in ssl_wrap_socket\n",
      "    return context.wrap_socket(sock, server_hostname=server_hostname)\n",
      "  File \"/home/aman/anaconda/lib/python3.6/site-packages/urllib3/contrib/pyopenssl.py\", line 448, in wrap_socket\n",
      "    raise ssl.SSLError('bad handshake: %r' % e)\n",
      "ssl.SSLError: (\"bad handshake: Error([('SSL routines', 'ssl3_get_server_certificate', 'certificate verify failed')],)\",)\n",
      "\n",
      "During handling of the above exception, another exception occurred:\n",
      "\n",
      "Traceback (most recent call last):\n",
      "  File \"/home/aman/anaconda/lib/python3.6/site-packages/requests/adapters.py\", line 440, in send\n",
      "    timeout=timeout\n",
      "  File \"/home/aman/anaconda/lib/python3.6/site-packages/urllib3/connectionpool.py\", line 639, in urlopen\n",
      "    _stacktrace=sys.exc_info()[2])\n",
      "  File \"/home/aman/anaconda/lib/python3.6/site-packages/urllib3/util/retry.py\", line 388, in increment\n",
      "    raise MaxRetryError(_pool, url, error or ResponseError(cause))\n",
      "urllib3.exceptions.MaxRetryError: HTTPSConnectionPool(host='www.kaggle.com', port=443): Max retries exceeded with url: /accounts/login/ (Caused by SSLError(SSLError(\"bad handshake: Error([('SSL routines', 'ssl3_get_server_certificate', 'certificate verify failed')],)\",),))\n",
      "\n",
      "During handling of the above exception, another exception occurred:\n",
      "\n",
      "Traceback (most recent call last):\n",
      "  File \"../src/data/get_raw_data.py\", line 48, in <module>\n",
      "    main(project_dir)\n",
      "  File \"../src/data/get_raw_data.py\", line 39, in main\n",
      "    extract_data(train_url, train_data_path)\n",
      "  File \"../src/data/get_raw_data.py\", line 17, in extract_data\n",
      "    c.post(\"https://www.kaggle.com/accounts/login/\", data=payload)\n",
      "  File \"/home/aman/anaconda/lib/python3.6/site-packages/requests/sessions.py\", line 555, in post\n",
      "    return self.request('POST', url, data=data, json=json, **kwargs)\n",
      "  File \"/home/aman/anaconda/lib/python3.6/site-packages/requests/sessions.py\", line 508, in request\n",
      "    resp = self.send(prep, **send_kwargs)\n",
      "  File \"/home/aman/anaconda/lib/python3.6/site-packages/requests/sessions.py\", line 618, in send\n",
      "    r = adapter.send(request, **kwargs)\n",
      "  File \"/home/aman/anaconda/lib/python3.6/site-packages/requests/adapters.py\", line 506, in send\n",
      "    raise SSLError(e, request=request)\n",
      "requests.exceptions.SSLError: HTTPSConnectionPool(host='www.kaggle.com', port=443): Max retries exceeded with url: /accounts/login/ (Caused by SSLError(SSLError(\"bad handshake: Error([('SSL routines', 'ssl3_get_server_certificate', 'certificate verify failed')],)\",),))\n"
     ]
    }
   ],
   "source": [
    "! python $get_raw_data_script_file"
   ]
  }
 ],
 "metadata": {
  "kernelspec": {
   "display_name": "Python 3",
   "language": "python",
   "name": "python3"
  },
  "language_info": {
   "codemirror_mode": {
    "name": "ipython",
    "version": 3
   },
   "file_extension": ".py",
   "mimetype": "text/x-python",
   "name": "python",
   "nbconvert_exporter": "python",
   "pygments_lexer": "ipython3",
   "version": "3.6.3"
  }
 },
 "nbformat": 4,
 "nbformat_minor": 2
}
